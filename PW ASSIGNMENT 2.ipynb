{
 "cells": [
  {
   "cell_type": "code",
   "execution_count": 1,
   "id": "d2613e6f",
   "metadata": {},
   "outputs": [],
   "source": [
    "# Q1\n",
    "# ans: We comment on python use '#' and extend to the end of the line.There are Single line Comments.\n",
    "#Multiline Comments.\n",
    "#Docstring Comments."
   ]
  },
  {
   "cell_type": "code",
   "execution_count": 2,
   "id": "a4e9e1ef",
   "metadata": {},
   "outputs": [],
   "source": [
    "# Q2\n",
    "# Ans: Variables are the reference or like a pointer to the object. It stores the value of any data type.\n",
    "# We assign for example, a = \"Payal\", C = 78+90j, b = 89 and so on."
   ]
  },
  {
   "cell_type": "code",
   "execution_count": 3,
   "id": "ca61bc8a",
   "metadata": {},
   "outputs": [],
   "source": [
    "# Q3\n",
    "# Ans: We convert datatype using functions like str(), int(), float(),this type of conversion is also called typecasting because the user casts (change) the data type of the objects. This function converts any data type into integer,strings, float etc."
   ]
  },
  {
   "cell_type": "code",
   "execution_count": 4,
   "id": "0974d7b1",
   "metadata": {},
   "outputs": [],
   "source": [
    "# Q4\n",
    "# Ans: The most basic and easy way to run a Python script is by using the python command. You need to open a command line and type the word python followed by the path to your script file like this:\n",
    "# python first_script.py, Hello World!\n"
   ]
  },
  {
   "cell_type": "code",
   "execution_count": 5,
   "id": "8b3f0fb5",
   "metadata": {},
   "outputs": [
    {
     "data": {
      "text/plain": [
       "[2, 3]"
      ]
     },
     "execution_count": 5,
     "metadata": {},
     "output_type": "execute_result"
    }
   ],
   "source": [
    "# Q5\n",
    "# Ans: \n",
    "my_list = [1, 2, 3, 4, 5]\n",
    "my_list[1:3]"
   ]
  },
  {
   "cell_type": "code",
   "execution_count": 6,
   "id": "a909b52e",
   "metadata": {},
   "outputs": [],
   "source": [
    "# Q6\n",
    "# Ans:  It is written in the form of (x + yj) where x and y are real numbers and j is an imaginary number which is the square root of "
   ]
  },
  {
   "cell_type": "code",
   "execution_count": 7,
   "id": "ed3b6ad2",
   "metadata": {},
   "outputs": [],
   "source": [
    "# Q7\n",
    "# Ans: age = 25  // here int declaration is not required in python"
   ]
  },
  {
   "cell_type": "code",
   "execution_count": 8,
   "id": "4032d3e1",
   "metadata": {},
   "outputs": [],
   "source": [
    "# Q8\n",
    "# Ans: \n",
    "price = 9.99 \n",
    "# This is a float data type"
   ]
  },
  {
   "cell_type": "code",
   "execution_count": 9,
   "id": "5b69e447",
   "metadata": {},
   "outputs": [
    {
     "name": "stdout",
     "output_type": "stream",
     "text": [
      "Darshana Bhuyan\n"
     ]
    }
   ],
   "source": [
    "# Q9\n",
    "# Ans:\n",
    "name = \"Darshana Bhuyan\"\n",
    "print(name)"
   ]
  },
  {
   "cell_type": "code",
   "execution_count": 11,
   "id": "b8b00033",
   "metadata": {},
   "outputs": [
    {
     "data": {
      "text/plain": [
       "'World!'"
      ]
     },
     "execution_count": 11,
     "metadata": {},
     "output_type": "execute_result"
    }
   ],
   "source": [
    "# Q10\n",
    "a = \"Hello,World!\"\n",
    "a[6:13]"
   ]
  },
  {
   "cell_type": "code",
   "execution_count": 13,
   "id": "8a0c9cb7",
   "metadata": {},
   "outputs": [
    {
     "name": "stdout",
     "output_type": "stream",
     "text": [
      "True\n"
     ]
    }
   ],
   "source": [
    "# Q11\n",
    "is_student = True\n",
    "print(is_student)"
   ]
  },
  {
   "cell_type": "code",
   "execution_count": null,
   "id": "1dc3f3e8",
   "metadata": {},
   "outputs": [],
   "source": []
  }
 ],
 "metadata": {
  "kernelspec": {
   "display_name": "Python 3 (ipykernel)",
   "language": "python",
   "name": "python3"
  },
  "language_info": {
   "codemirror_mode": {
    "name": "ipython",
    "version": 3
   },
   "file_extension": ".py",
   "mimetype": "text/x-python",
   "name": "python",
   "nbconvert_exporter": "python",
   "pygments_lexer": "ipython3",
   "version": "3.9.13"
  }
 },
 "nbformat": 4,
 "nbformat_minor": 5
}
